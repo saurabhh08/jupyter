{
 "cells": [
  {
   "cell_type": "markdown",
   "id": "260af86a-2b1f-49cc-925e-78839d4cdeca",
   "metadata": {},
   "source": [
    "# Data Science Tools and Ecosystem\n",
    "In this tools, Data Science Tools and Ecosystem are summarized"
   ]
  },
  {
   "cell_type": "markdown",
   "id": "cb1dccb6-1a16-42b1-808b-29bc29072028",
   "metadata": {},
   "source": [
    "Some of popular languages that Data Scientist used are :\n",
    "1. Python\n",
    "2. R\n",
    "3. SQL\n",
    "4. Java\n",
    "5. SCALA\n",
    "6. JAVA SCRIPT\n"
   ]
  },
  {
   "cell_type": "markdown",
   "id": "1dee5108-e56c-40f3-a8f3-aaf124b36e4c",
   "metadata": {},
   "source": [
    "Some of Commonly used libraries used by Data Scientists include :\n",
    "1. Pandas \n",
    "2. Numpy\n",
    "3. Scipy\n",
    "4. TensorFlow\n",
    "5. Jupyter \n",
    "6. Matplotlib"
   ]
  },
  {
   "cell_type": "markdown",
   "id": "f32015f1-ba51-4f4e-ad20-4dbdd5861a9c",
   "metadata": {},
   "source": [
    "| Data Scientist Tools |\n",
    "-------------------------\n",
    "| R Studio |\n",
    "| Apache Spark |\n",
    "| Apache Hadoop |"
   ]
  },
  {
   "cell_type": "markdown",
   "id": "6d457e0c-819e-4186-939a-c62362ba0b3b",
   "metadata": {},
   "source": [
    "### Below are a few examples of evaluating arithmetic exresssions in Python :\n",
    "$$ a*b $$\n",
    "$$ a/b $$\n",
    "$$ a+b $$\n",
    "$$ a-B $$"
   ]
  },
  {
   "cell_type": "code",
   "execution_count": 4,
   "id": "6398385b-d19d-41a3-b905-68785c7729b0",
   "metadata": {},
   "outputs": [
    {
     "name": "stdout",
     "output_type": "stream",
     "text": [
      "17\n"
     ]
    }
   ],
   "source": [
    "# This is sample arithmetic expression to multiply then add integers \n",
    "a = (3*4)+5\n",
    "print(a)"
   ]
  },
  {
   "cell_type": "code",
   "execution_count": 5,
   "id": "57a354e3-1c79-4bda-9904-b804acf0bf2d",
   "metadata": {},
   "outputs": [
    {
     "name": "stdout",
     "output_type": "stream",
     "text": [
      "3.3333333333333335\n"
     ]
    }
   ],
   "source": [
    "# This will convert 200 minutes into hours by dividing by 60.\n",
    "a = 200/60\n",
    "print(a)"
   ]
  },
  {
   "cell_type": "markdown",
   "id": "73a35885-444a-4fd3-883b-ad1e73c1d786",
   "metadata": {},
   "source": [
    "**Objectives**\n",
    "- List of popular languages used in Data Science\n",
    "- List of Data Science Libraries\n",
    "- Open Source Tools used by Data Scientist \n",
    "- Arithmetic Expressions in Python\n",
    "- Markdown Cells and Code Cells"
   ]
  },
  {
   "cell_type": "markdown",
   "id": "e256b535-e591-41b7-93c2-fda265621229",
   "metadata": {},
   "source": [
    "## Author \n",
    "Saurabh S. Thombare\n"
   ]
  },
  {
   "cell_type": "markdown",
   "id": "d9e41e57-22b5-4ffd-893b-2baab6cb164d",
   "metadata": {},
   "source": [
    "#"
   ]
  }
 ],
 "metadata": {
  "kernelspec": {
   "display_name": "Python",
   "language": "python",
   "name": "conda-env-python-py"
  },
  "language_info": {
   "codemirror_mode": {
    "name": "ipython",
    "version": 3
   },
   "file_extension": ".py",
   "mimetype": "text/x-python",
   "name": "python",
   "nbconvert_exporter": "python",
   "pygments_lexer": "ipython3",
   "version": "3.7.12"
  }
 },
 "nbformat": 4,
 "nbformat_minor": 5
}
